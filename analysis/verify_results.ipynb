{
 "cells": [
  {
   "cell_type": "code",
   "id": "initial_id",
   "metadata": {
    "collapsed": true,
    "ExecuteTime": {
     "end_time": "2025-03-02T20:13:44.163985Z",
     "start_time": "2025-03-02T20:13:44.160638Z"
    }
   },
   "source": [
    "import relaqs.api.gates as gates\n",
    "import numpy as np\n",
    "import pandas as pd\n",
    "import os\n",
    "from datetime import datetime\n",
    "from qutip.superoperator import liouvillian, spre, spost\n",
    "from qutip import Qobj, tensor, Bloch, basis, sigmax, sigmay, sigmaz, expect\n",
    "from qutip.operators import *\n",
    "import matplotlib.pyplot as plt\n",
    "from relaqs.api.utils import *\n",
    "from scipy.linalg import expm"
   ],
   "outputs": [],
   "execution_count": 131
  },
  {
   "metadata": {
    "ExecuteTime": {
     "end_time": "2025-03-02T19:33:00.967500Z",
     "start_time": "2025-03-02T19:33:00.964659Z"
    }
   },
   "cell_type": "code",
   "source": [
    "I = gates.I().get_matrix()\n",
    "X = gates.X().get_matrix()\n",
    "Y = gates.Y().get_matrix()\n",
    "Z = gates.Z().get_matrix()"
   ],
   "id": "af6a9848675f8dd0",
   "outputs": [],
   "execution_count": 74
  },
  {
   "metadata": {
    "ExecuteTime": {
     "end_time": "2025-03-03T02:37:44.280006Z",
     "start_time": "2025-03-03T02:37:44.276703Z"
    }
   },
   "cell_type": "code",
   "source": [
    "steps_per_Haar = 2\n",
    "final_time = 35.5556E-9 #in seconds\n",
    "gamma_phase_max = 1.1675 * np.pi\n",
    "gamma_magnitude_max = 1.8 * np.pi / final_time / steps_per_Haar\n",
    "alpha_max = 0.05E9  # detuning of the control pulse in Hz"
   ],
   "id": "2df331ab0d383f60",
   "outputs": [],
   "execution_count": 196
  },
  {
   "metadata": {
    "ExecuteTime": {
     "end_time": "2025-03-03T02:38:14.972402Z",
     "start_time": "2025-03-03T02:38:14.968051Z"
    }
   },
   "cell_type": "code",
   "source": [
    "def compare_actions_U_target(action,u_target):\n",
    "    # gamma_magnitude_action, gamma_phase_action, alpha_action = action\n",
    "    # action = [0.18149161,0.97111285,-0.45888507]\n",
    "    # u_target = [[-0.26685747-0.43349986j ,0.36620598-0.77894681j],\n",
    "    #             [-0.36620598-0.77894681j ,-0.26685747+0.43349986j]]\n",
    "    # Compute actual control parameters\n",
    "    gamma_magnitude = gamma_magnitude_max/2 * (action[0]+1)\n",
    "    gamma_phase = gamma_phase_max * action[1]\n",
    "    alpha = alpha_max * action[2]\n",
    "\n",
    "    print(f\"alpha: {alpha}\\n\")\n",
    "    # print(f\"U_target: {u_target}\\n\")\n",
    "\n",
    "    detuing_list = [944.5591192245483, 20663.88058757782, 7009.451946258545, 3041.243444442749, 2786.565857887268, 15716.49913406372, 3330.534860610962, 3041.243444442749, 3041.243444442749]\n",
    "    # Construct the Hamiltonian\n",
    "    # H = alpha * Z + gamma_magnitude * (np.cos(gamma_phase) * X + np.sin(gamma_phase) * Y)\n",
    "    psi_0 = np.array([[1], [0]], dtype=complex)  # |0⟩ state\n",
    "    # psi_0 = basis(2, 0)\n",
    "    bloch_points = []\n",
    "    for detuning in detuing_list:\n",
    "        H = (detuning + alpha)*Z + gamma_magnitude*(np.cos(gamma_phase)*X + np.sin(gamma_phase)*Y)\n",
    "    # H = alpha * sigmaz() + gamma_magnitude * (np.cos(gamma_phase) * sigmax()\n",
    "    #                                      + np.sin(gamma_phase) * sigmay())\n",
    "\n",
    "        # Compute Unitary Evolution: U = exp(-i H t)\n",
    "        U = expm(-1j * H * final_time)\n",
    "        # U = (-1j * H * final_time).expm()\n",
    "        # print(f\"Generated U:\\n{U}\")\n",
    "\n",
    "        # Apply U to initial state |0⟩\n",
    "        psi_final = U @ psi_0\n",
    "        # psi_final = U * psi_0  # Evolve under U\n",
    "\n",
    "        # # Compute the Density Matrix: ρ = |ψ⟩⟨ψ|\n",
    "        rho = psi_final @ psi_final.conj().T\n",
    "\n",
    "        # Compute Bloch vector components: (x, y, z)\n",
    "        x = np.real(np.trace(rho @ X))\n",
    "        y = np.real(np.trace(rho @ Y))\n",
    "        z = np.real(np.trace(rho @ Z))\n",
    "        # x = expect(sigmax(), psi_final)\n",
    "        # y = expect(sigmay(), psi_final)\n",
    "        # z = expect(sigmaz(), psi_final)\n",
    "        bloch_points.append(np.array([x,y,z]))\n",
    "\n",
    "\n",
    "\n",
    "    vector = np.matmul(u_target, np.array([[1], [0]]))  # Apply gate to |0⟩ = [1, 0]^T\n",
    "    q_obj = qutip.Qobj(vector)  # Convert the resulting vector to a QuTiP quantum object\n",
    "\n",
    "\n",
    "    bloch_sphere = Bloch()\n",
    "    bloch_sphere.vector_color = ['m']  # Magenta for clarity\n",
    "\n",
    "    # Add Bloch vectors\n",
    "    for point in bloch_points:\n",
    "        bloch_sphere.add_points(point.T)  # Transpose needed for correct format\n",
    "    bloch_sphere.add_states(q_obj)\n",
    "    # bloch_sphere.add_states(qutip.Qobj(psi_final))\n",
    "\n",
    "    # # Prevent cropping by modifying rendering settings\n",
    "    # bloch_sphere.frame_alpha = 0.3  # Make the Bloch sphere frame slightly transparent\n",
    "    # bloch_sphere.font_size = 10  # Reduce font size to prevent label overlap\n",
    "    # bloch_sphere.scale = [1.0]  # Maintain default scaling to avoid zooming issues\n",
    "\n",
    "    # Show Bloch sphere\n",
    "    # bloch_sphere.view = [120,30]\n",
    "    bloch_sphere.show()\n",
    "\n"
   ],
   "id": "4aa7321753613e06",
   "outputs": [],
   "execution_count": 204
  },
  {
   "metadata": {
    "ExecuteTime": {
     "end_time": "2025-03-03T17:23:59.549051Z",
     "start_time": "2025-03-03T17:23:59.546053Z"
    }
   },
   "cell_type": "code",
   "source": [
    "def unitary_to_superoperator(U):\n",
    "    S1 = np.kron(U.conj(), U)\n",
    "    S2 = np.kron(U, U.conj())\n",
    "    S3 = np.array((spre(Qobj(U)) * spost(Qobj(U))).data.toarray())\n",
    "    S4 = np.array((spre(Qobj(U)) * spost(Qobj(U.conj()))).data.toarray())\n",
    "    return S1, S2, S3, S4"
   ],
   "id": "9a7eb70eefd5b051",
   "outputs": [],
   "execution_count": 209
  },
  {
   "metadata": {
    "ExecuteTime": {
     "end_time": "2025-03-03T02:37:48.122987Z",
     "start_time": "2025-03-03T02:37:48.120831Z"
    }
   },
   "cell_type": "code",
   "source": [
    "def process_fidelity(S1, S2):\n",
    "    d = int(np.sqrt(S1.shape[0]))  # Extract system dimension\n",
    "    return np.abs(np.trace(S1.conj().T @ S2)) / d**2"
   ],
   "id": "49afcc31640c9cc2",
   "outputs": [],
   "execution_count": 199
  },
  {
   "metadata": {
    "ExecuteTime": {
     "end_time": "2025-03-03T02:37:48.399749Z",
     "start_time": "2025-03-03T02:37:48.397868Z"
    }
   },
   "cell_type": "code",
   "source": [
    "def eigenvalue_distance(S1, S2):\n",
    "    eigs1 = np.linalg.eigvals(S1)\n",
    "    eigs2 = np.linalg.eigvals(S2)\n",
    "    return np.linalg.norm(eigs1 - eigs2)\n"
   ],
   "id": "f8030183e7e52ae2",
   "outputs": [],
   "execution_count": 200
  },
  {
   "metadata": {
    "ExecuteTime": {
     "end_time": "2025-03-03T02:37:48.690658Z",
     "start_time": "2025-03-03T02:37:48.660361Z"
    }
   },
   "cell_type": "code",
   "source": [
    "def is_close_superoperator(S1, S2, tol=1e-6):\n",
    "    return np.allclose(S1, S2, atol=tol)"
   ],
   "id": "3bf453a5c52db881",
   "outputs": [],
   "execution_count": 201
  },
  {
   "metadata": {
    "ExecuteTime": {
     "end_time": "2025-03-03T02:37:48.948187Z",
     "start_time": "2025-03-03T02:37:48.945244Z"
    }
   },
   "cell_type": "code",
   "source": [
    "def frobenius_distance(S1, S2):\n",
    "    return np.linalg.norm(S1 - S2, ord='fro')  # Frobenius norm"
   ],
   "id": "f5f17b1d419bff41",
   "outputs": [],
   "execution_count": 202
  },
  {
   "metadata": {
    "ExecuteTime": {
     "end_time": "2025-03-03T17:24:07.583752Z",
     "start_time": "2025-03-03T17:24:07.504900Z"
    }
   },
   "cell_type": "code",
   "source": [
    "data_path = '/Users/vishchaudhary/rl-repo/results/2025-03-02_16-18-03/RandomSU2/RandomSU2_env_data.csv'\n",
    "df = pd.read_csv(data_path,header = 0)\n",
    "\n",
    "fidelities = df.iloc[:, 0]\n",
    "preprocessed_actions = df.iloc[:, 2].apply(preprocess_actions)\n",
    "preprocessed_operator = df.iloc[:, 3].apply(preprocess_matrix_string)\n",
    "preprocessed_target_operator = df.iloc[:, 4].apply(preprocess_matrix_string)\n",
    "preprocessed_U_target = df.iloc[:, 5].apply(preprocess_matrix_string)\n",
    "\n",
    "actions_array = [np.array(eval(m)) for m in preprocessed_actions]\n",
    "u_target_list = [np.array(eval(m)) for m in preprocessed_U_target]\n",
    "u_target_list = np.array(u_target_list)\n",
    "\n",
    "operator = [np.array(eval(m)) for m in preprocessed_operator]\n",
    "operator = np.array(operator)\n",
    "\n",
    "target_operator = [np.array(eval(m)) for m in preprocessed_target_operator]\n",
    "target_operator = np.array(target_operator)\n",
    "\n",
    "for i in range(5):\n",
    "    if fidelities[i] > 0.99:\n",
    "        print(fidelities[i])\n",
    "        # print(u_target_list[i])\n",
    "        # print(f\"{check_unitary(u_target_list[i])}\")\n",
    "        S1, S2, S3, S4 = unitary_to_superoperator(u_target_list[i])\n",
    "        print(f\"S1:\\n{S1}\\nS2:\\n{S2}\\nS3:\\n{S3}\\nS4:\\n{S4}\\n\")\n",
    "\n",
    "        # print(f\"Process Fidelity(if close to 1 gates are close): {process_fidelity(operator[i], target_operator[i])}\")\n",
    "        # print(f\"Eigenvalue Distance(Smaller values indicate greater similarity): {eigenvalue_distance(operator[i], target_operator[i])}\")\n",
    "        # print(f\"Frobenius Norm Distance: {frobenius_distance(operator[i], target_operator[i])}\")\n",
    "        # psi = np.random.rand(4, 1) + 1j * np.random.rand(4, 1)\n",
    "        # psi /= np.linalg.norm(psi)  # Normalize random state\n",
    "        #\n",
    "        # psi1 = operator[i] @ psi\n",
    "        # psi2 = target_operator @ psi\n",
    "        #\n",
    "        # state_diff = np.linalg.norm(psi1 - psi2)\n",
    "        # print(f\"State transformation difference: {state_diff}\\n\")\n",
    "        # if is_close_superoperator(operator[i], target_operator[i]):\n",
    "        #     print(\"Superoperators are close!\")\n",
    "        # else:\n",
    "        #     print(\"Superoperators are different.\")\n",
    "        # compare_actions_U_target(actions_array[i], u_target_list[i])\n",
    "        print(f\"\\n------------------------------------------------\\n\")\n"
   ],
   "id": "444d244fce40a313",
   "outputs": [
    {
     "name": "stdout",
     "output_type": "stream",
     "text": [
      "0.9949318709060032\n",
      "S1:\n",
      "[[ 0.9078464 -9.16392978e-18j  0.08871169+2.75302642e-01j\n",
      "   0.08871169-2.75302642e-01j  0.09215359-6.27803356e-19j]\n",
      " [ 0.2637422 -1.18749156e-01j -0.60864661-6.73598099e-01j\n",
      "  -0.01023845-9.15830711e-02j -0.2637422 +1.18749156e-01j]\n",
      " [ 0.2637422 +1.18749156e-01j -0.01023845+9.15830711e-02j\n",
      "  -0.60864661+6.73598099e-01j -0.2637422 -1.18749156e-01j]\n",
      " [ 0.09215359+6.27803356e-19j -0.08871169-2.75302642e-01j\n",
      "  -0.08871169+2.75302642e-01j  0.9078464 +9.16392978e-18j]]\n",
      "S2:\n",
      "[[ 0.9078464 +9.16392978e-18j  0.08871169-2.75302642e-01j\n",
      "   0.08871169+2.75302642e-01j  0.09215359+6.27803356e-19j]\n",
      " [ 0.2637422 +1.18749156e-01j -0.60864661+6.73598099e-01j\n",
      "  -0.01023845+9.15830711e-02j -0.2637422 -1.18749156e-01j]\n",
      " [ 0.2637422 -1.18749156e-01j -0.01023845-9.15830711e-02j\n",
      "  -0.60864661-6.73598099e-01j -0.2637422 +1.18749156e-01j]\n",
      " [ 0.09215359-6.27803356e-19j -0.08871169+2.75302642e-01j\n",
      "  -0.08871169-2.75302642e-01j  0.9078464 -9.16392978e-18j]]\n",
      "S3:\n",
      "[[-0.60864661+0.6735981j  -0.2637422 -0.11874916j -0.08871169+0.27530264j\n",
      "  -0.09215359+0.j        ]\n",
      " [-0.08871169+0.27530264j  0.9078464 +0.j          0.01023845+0.09158307j\n",
      "   0.2637422 -0.11874916j]\n",
      " [-0.2637422 -0.11874916j  0.01023845-0.09158307j  0.9078464 +0.j\n",
      "   0.08871169+0.27530264j]\n",
      " [-0.09215359+0.j          0.08871169+0.27530264j  0.2637422 -0.11874916j\n",
      "  -0.60864661-0.6735981j ]]\n",
      "S4:\n",
      "[[ 0.9078464 +0.j          0.08871169+0.27530264j  0.2637422 +0.11874916j\n",
      "  -0.01023845+0.09158307j]\n",
      " [ 0.2637422 -0.11874916j -0.60864661-0.6735981j   0.09215359+0.j\n",
      "  -0.08871169-0.27530264j]\n",
      " [ 0.08871169-0.27530264j  0.09215359+0.j         -0.60864661+0.6735981j\n",
      "  -0.2637422 -0.11874916j]\n",
      " [-0.01023845-0.09158307j -0.2637422 +0.11874916j -0.08871169+0.27530264j\n",
      "   0.9078464 +0.j        ]]\n",
      "\n",
      "\n",
      "------------------------------------------------\n",
      "\n",
      "0.9976828032791912\n",
      "S1:\n",
      "[[ 0.00859964+1.37110514e-19j -0.08859377-2.60159021e-02j\n",
      "  -0.08859377+2.60159021e-02j  0.99140036-8.58017175e-18j]\n",
      " [-0.07694433-5.10416851e-02j -0.0055365 -6.58034002e-03j\n",
      "   0.94709621+2.93058787e-01j  0.07694433+5.10416851e-02j]\n",
      " [-0.07694433+5.10416851e-02j  0.94709621-2.93058787e-01j\n",
      "  -0.0055365 +6.58034002e-03j  0.07694433-5.10416851e-02j]\n",
      " [ 0.99140036+8.58017175e-18j  0.08859377+2.60159021e-02j\n",
      "   0.08859377-2.60159021e-02j  0.00859964-1.37110514e-19j]]\n",
      "S2:\n",
      "[[ 0.00859964-1.37110514e-19j -0.08859377+2.60159021e-02j\n",
      "  -0.08859377-2.60159021e-02j  0.99140036+8.58017175e-18j]\n",
      " [-0.07694433+5.10416851e-02j -0.0055365 +6.58034002e-03j\n",
      "   0.94709621-2.93058787e-01j  0.07694433-5.10416851e-02j]\n",
      " [-0.07694433-5.10416851e-02j  0.94709621+2.93058787e-01j\n",
      "  -0.0055365 -6.58034002e-03j  0.07694433+5.10416851e-02j]\n",
      " [ 0.99140036-8.58017175e-18j  0.08859377-2.60159021e-02j\n",
      "   0.08859377+2.60159021e-02j  0.00859964+1.37110514e-19j]]\n",
      "S3:\n",
      "[[-0.0055365 +0.00658034j  0.07694433-0.05104169j  0.08859377-0.0260159j\n",
      "  -0.99140036+0.j        ]\n",
      " [ 0.08859377-0.0260159j   0.00859964+0.j         -0.94709621-0.29305879j\n",
      "  -0.07694433-0.05104169j]\n",
      " [ 0.07694433-0.05104169j -0.94709621+0.29305879j  0.00859964+0.j\n",
      "  -0.08859377-0.0260159j ]\n",
      " [-0.99140036+0.j         -0.08859377-0.0260159j  -0.07694433-0.05104169j\n",
      "  -0.0055365 -0.00658034j]]\n",
      "S4:\n",
      "[[ 0.00859964+0.j         -0.08859377-0.0260159j  -0.07694433+0.05104169j\n",
      "   0.94709621-0.29305879j]\n",
      " [-0.07694433-0.05104169j -0.0055365 -0.00658034j  0.99140036+0.j\n",
      "   0.08859377+0.0260159j ]\n",
      " [-0.08859377+0.0260159j   0.99140036+0.j         -0.0055365 +0.00658034j\n",
      "   0.07694433-0.05104169j]\n",
      " [ 0.94709621+0.29305879j  0.07694433+0.05104169j  0.08859377-0.0260159j\n",
      "   0.00859964+0.j        ]]\n",
      "\n",
      "\n",
      "------------------------------------------------\n",
      "\n",
      "0.9935403108190228\n",
      "S1:\n",
      "[[ 0.34575712-1.58625428e-18j -0.41741362-2.27980274e-01j\n",
      "  -0.41741362+2.27980274e-01j  0.65424289+2.19545906e-18j]\n",
      " [ 0.44515871-1.67460011e-01j  0.34236962+4.82807179e-02j\n",
      "  -0.42699838+4.95687539e-01j -0.44515871+1.67460011e-01j]\n",
      " [ 0.44515871+1.67460011e-01j -0.42699838-4.95687539e-01j\n",
      "   0.34236962-4.82807179e-02j -0.44515871-1.67460011e-01j]\n",
      " [ 0.65424289-2.19545906e-18j  0.41741362+2.27980274e-01j\n",
      "   0.41741362-2.27980274e-01j  0.34575712+1.58625428e-18j]]\n",
      "S2:\n",
      "[[ 0.34575712+1.58625428e-18j -0.41741362+2.27980274e-01j\n",
      "  -0.41741362-2.27980274e-01j  0.65424289-2.19545906e-18j]\n",
      " [ 0.44515871+1.67460011e-01j  0.34236962-4.82807179e-02j\n",
      "  -0.42699838-4.95687539e-01j -0.44515871-1.67460011e-01j]\n",
      " [ 0.44515871-1.67460011e-01j -0.42699838+4.95687539e-01j\n",
      "   0.34236962+4.82807179e-02j -0.44515871+1.67460011e-01j]\n",
      " [ 0.65424289+2.19545906e-18j  0.41741362-2.27980274e-01j\n",
      "   0.41741362+2.27980274e-01j  0.34575712-1.58625428e-18j]]\n",
      "S3:\n",
      "[[ 0.34236962-0.04828072j -0.44515871-0.16746001j  0.41741362-0.22798027j\n",
      "  -0.65424289+0.j        ]\n",
      " [ 0.41741362-0.22798027j  0.34575712+0.j          0.42699838-0.49568754j\n",
      "   0.44515871-0.16746001j]\n",
      " [-0.44515871-0.16746001j  0.42699838+0.49568754j  0.34575712+0.j\n",
      "  -0.41741362-0.22798027j]\n",
      " [-0.65424289+0.j         -0.41741362-0.22798027j  0.44515871-0.16746001j\n",
      "   0.34236962+0.04828072j]]\n",
      "S4:\n",
      "[[ 0.34575712+0.j         -0.41741362-0.22798027j  0.44515871+0.16746001j\n",
      "  -0.42699838-0.49568754j]\n",
      " [ 0.44515871-0.16746001j  0.34236962+0.04828072j  0.65424289+0.j\n",
      "   0.41741362+0.22798027j]\n",
      " [-0.41741362+0.22798027j  0.65424289+0.j          0.34236962-0.04828072j\n",
      "  -0.44515871-0.16746001j]\n",
      " [-0.42699838+0.49568754j -0.44515871+0.16746001j  0.41741362-0.22798027j\n",
      "   0.34575712+0.j        ]]\n",
      "\n",
      "\n",
      "------------------------------------------------\n",
      "\n"
     ]
    }
   ],
   "execution_count": 210
  },
  {
   "metadata": {
    "ExecuteTime": {
     "end_time": "2025-03-02T20:30:14.154917Z",
     "start_time": "2025-03-02T20:30:14.152280Z"
    }
   },
   "cell_type": "code",
   "source": "",
   "id": "68adf9928d33d7c0",
   "outputs": [],
   "execution_count": null
  },
  {
   "metadata": {},
   "cell_type": "code",
   "outputs": [],
   "execution_count": null,
   "source": "",
   "id": "fbdcf99d7782c1ae"
  }
 ],
 "metadata": {
  "kernelspec": {
   "display_name": "Python 3",
   "language": "python",
   "name": "python3"
  },
  "language_info": {
   "codemirror_mode": {
    "name": "ipython",
    "version": 2
   },
   "file_extension": ".py",
   "mimetype": "text/x-python",
   "name": "python",
   "nbconvert_exporter": "python",
   "pygments_lexer": "ipython2",
   "version": "2.7.6"
  }
 },
 "nbformat": 4,
 "nbformat_minor": 5
}
