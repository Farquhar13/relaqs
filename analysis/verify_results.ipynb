{
 "cells": [
  {
   "cell_type": "code",
   "id": "initial_id",
   "metadata": {
    "collapsed": true,
    "ExecuteTime": {
     "end_time": "2025-03-02T20:13:44.163985Z",
     "start_time": "2025-03-02T20:13:44.160638Z"
    }
   },
   "source": [
    "import relaqs.api.gates as gates\n",
    "import numpy as np\n",
    "import pandas as pd\n",
    "from qutip.superoperator import liouvillian, spre, spost\n",
    "from qutip import Qobj, tensor, Bloch, basis, sigmax, sigmay, sigmaz, expect\n",
    "from qutip.operators import *\n",
    "import matplotlib.pyplot as plt\n",
    "from relaqs.api.utils import *\n",
    "import scipy.linalg as la"
   ],
   "outputs": [],
   "execution_count": 131
  },
  {
   "metadata": {
    "ExecuteTime": {
     "end_time": "2025-03-02T19:33:00.967500Z",
     "start_time": "2025-03-02T19:33:00.964659Z"
    }
   },
   "cell_type": "code",
   "source": [
    "I = gates.I().get_matrix()\n",
    "X = gates.X().get_matrix()\n",
    "Y = gates.Y().get_matrix()\n",
    "Z = gates.Z().get_matrix()"
   ],
   "id": "af6a9848675f8dd0",
   "outputs": [],
   "execution_count": 74
  },
  {
   "metadata": {
    "ExecuteTime": {
     "end_time": "2025-03-03T02:37:44.280006Z",
     "start_time": "2025-03-03T02:37:44.276703Z"
    }
   },
   "cell_type": "code",
   "source": [
    "steps_per_Haar = 1\n",
    "num_haar = 1\n",
    "final_time = 35.5556E-9 #in seconds\n",
    "gamma_phase_max = 1.1675 * np.pi\n",
    "gamma_magnitude_max = 1.8 * np.pi / final_time / steps_per_Haar\n",
    "alpha_max = 0.05E9  # detuning of the control pulse in Hz"
   ],
   "id": "2df331ab0d383f60",
   "outputs": [],
   "execution_count": 196
  },
  {
   "metadata": {
    "ExecuteTime": {
     "end_time": "2025-03-03T02:38:14.972402Z",
     "start_time": "2025-03-03T02:38:14.968051Z"
    }
   },
   "cell_type": "code",
   "source": [
    "def compare_actions_U_target(action,u_target, u_initial):\n",
    "    num_time_bins = 2 ** (steps_per_Haar - 1) # Haar number decides the number of time bins\n",
    "    # Compute actual control parameters\n",
    "    gamma_magnitude = gamma_magnitude_max/2 * (action[0]+1)\n",
    "    gamma_phase = gamma_phase_max * action[1]\n",
    "    alpha = alpha_max * action[2]\n",
    "\n",
    "    H_array = []\n",
    "    H_tot = []\n",
    "    U_array = []\n",
    "\n",
    "    # Construct the Hamiltonian\n",
    "    psi_0 = np.array([[1], [0]], dtype=complex)  # |0⟩ state\n",
    "    H = alpha*Z + gamma_magnitude*(np.cos(gamma_phase)*X + np.sin(gamma_phase)*Y)\n",
    "    H_array.append(H)\n",
    "    H_tot = []\n",
    "    for ii, H_elem in enumerate(H_array):\n",
    "        for jj in range(0, num_time_bins):\n",
    "            Haar_num = num_haar - np.floor(ii / steps_per_Haar) # Haar_num: label which Haar wavelet, current_Haar_num: order in the array\n",
    "            factor = (-1) ** np.floor(jj / (2 ** (Haar_num - 1)))\n",
    "            if ii > 0:\n",
    "                H_tot[jj] += factor * H_elem\n",
    "            else:\n",
    "                H_tot.append(factor * H_elem)\n",
    "\n",
    "    U = u_initial.copy()\n",
    "    for jj in range(0, num_time_bins):\n",
    "        Ut = la.expm(-1j * final_time / num_time_bins * H_tot[jj])\n",
    "        U = Ut @ U\n",
    "    U_array.append(U)\n",
    "\n",
    "    vector_target = np.matmul(u_target, np.array([[1], [0]]))  # Apply gate to |0⟩ = [1, 0]^T\n",
    "    vector_initial = np.matmul(u_initial, np.array([[1], [0]]))\n",
    "    vector_action = np.matmul(U, np.array([[1], [0]]))\n",
    "    # q_obj = [qutip.Qobj(vector_initial),qutip.Qobj(vector_target), qutip.Qobj(vector_action)]  # Convert the resulting vector to a QuTiP quantum object\n",
    "    q_obj = [qutip.Qobj(vector_initial),qutip.Qobj(vector_target)]  # Convert the resulting vector to a QuTiP quantum object\n",
    "    bloch_sphere = Bloch()\n",
    "    bloch_sphere.vector_color = ['m','y', 'g']  # magenta for clarity\n",
    "    bloch_sphere.point_color = ['b']\n",
    "    bloch_sphere.add_states(q_obj)\n",
    "\n",
    "    psi_final = U @ psi_0\n",
    "    rho = psi_final @ psi_final.conj().T\n",
    "\n",
    "    x = np.real(np.trace(rho @ X))\n",
    "    y = np.real(np.trace(rho @ Y))\n",
    "    z = np.real(np.trace(rho @ Z))\n",
    "    bloch_sphere.add_points(np.array([x,y,z]).T)\n",
    "\n",
    "    bloch_sphere.show()"
   ],
   "id": "4aa7321753613e06",
   "outputs": [],
   "execution_count": 204
  },
  {
   "metadata": {
    "ExecuteTime": {
     "end_time": "2025-03-03T17:23:59.549051Z",
     "start_time": "2025-03-03T17:23:59.546053Z"
    }
   },
   "cell_type": "code",
   "source": [
    "def unitary_to_superoperator(U):\n",
    "    S1 = np.kron(U.conj(), U)\n",
    "    S2 = np.kron(U, U.conj())\n",
    "    S3 = np.kron(U, U.conj().T)\n",
    "    S4 = np.array((spre(Qobj(U)) * spost(Qobj(U))).data.toarray())\n",
    "    S5 = np.array((spre(Qobj(U)) * spost(Qobj(U.conj()))).data.toarray())\n",
    "    return S1, S2, S3, S4, S5"
   ],
   "id": "9a7eb70eefd5b051",
   "outputs": [],
   "execution_count": 209
  },
  {
   "metadata": {
    "ExecuteTime": {
     "end_time": "2025-03-03T02:37:48.122987Z",
     "start_time": "2025-03-03T02:37:48.120831Z"
    }
   },
   "cell_type": "code",
   "source": [
    "def process_fidelity(S1, S2):\n",
    "    d = int(np.sqrt(S1.shape[0]))  # Extract system dimension\n",
    "    return np.abs(np.trace(S1.conj().T @ S2)) / d**2"
   ],
   "id": "49afcc31640c9cc2",
   "outputs": [],
   "execution_count": 199
  },
  {
   "metadata": {
    "ExecuteTime": {
     "end_time": "2025-03-03T17:24:07.583752Z",
     "start_time": "2025-03-03T17:24:07.504900Z"
    }
   },
   "cell_type": "code",
   "source": [
    "data_path = '/Users/vishchaudhary/rl-repo/results/2025-03-12_20-52-02/RandomSU2/RandomSU2_env_data.csv'\n",
    "df = pd.read_csv(data_path,header = 0)\n",
    "\n",
    "fidelities = df.iloc[:, 0]\n",
    "print(f'Overall mean of Inference: {fidelities.mean()}\\n')\n",
    "preprocessed_actions = df.iloc[:, 2].apply(preprocess_actions)\n",
    "preprocessed_operator = df.iloc[:, 3].apply(preprocess_matrix_string)\n",
    "preprocessed_target_operator = df.iloc[:, 4].apply(preprocess_matrix_string)\n",
    "preprocessed_U_target = df.iloc[:, 5].apply(preprocess_matrix_string)\n",
    "preprocessed_U_initial = df.iloc[:, 6].apply(preprocess_matrix_string)\n",
    "\n",
    "actions_array = [np.array(eval(m)) for m in preprocessed_actions]\n",
    "u_target_list = [np.array(eval(m)) for m in preprocessed_U_target]\n",
    "u_target_list = np.array(u_target_list)\n",
    "\n",
    "u_initial_list = [np.array(eval(m)) for m in preprocessed_U_initial]\n",
    "u_initial_list = np.array(u_initial_list)\n",
    "\n",
    "operator = [np.array(eval(m)) for m in preprocessed_operator]\n",
    "operator = np.array(operator)\n",
    "\n",
    "target_operator = [np.array(eval(m)) for m in preprocessed_target_operator]\n",
    "target_operator = np.array(target_operator)\n",
    "\n",
    "for i in range(10):\n",
    "    if fidelities[i] > 0.99:\n",
    "        print(fidelities[i])\n",
    "        print('U_initial [Magenta],\\tU_target [Yellow],\\tCalculated Point from actions [Blue].')\n",
    "        compare_actions_U_target(actions_array[i], u_target_list[i], u_initial_list[i])"
   ],
   "id": "444d244fce40a313",
   "outputs": [
    {
     "name": "stdout",
     "output_type": "stream",
     "text": [
      "0.9949318709060032\n",
      "S1:\n",
      "[[ 0.9078464 -9.16392978e-18j  0.08871169+2.75302642e-01j\n",
      "   0.08871169-2.75302642e-01j  0.09215359-6.27803356e-19j]\n",
      " [ 0.2637422 -1.18749156e-01j -0.60864661-6.73598099e-01j\n",
      "  -0.01023845-9.15830711e-02j -0.2637422 +1.18749156e-01j]\n",
      " [ 0.2637422 +1.18749156e-01j -0.01023845+9.15830711e-02j\n",
      "  -0.60864661+6.73598099e-01j -0.2637422 -1.18749156e-01j]\n",
      " [ 0.09215359+6.27803356e-19j -0.08871169-2.75302642e-01j\n",
      "  -0.08871169+2.75302642e-01j  0.9078464 +9.16392978e-18j]]\n",
      "S2:\n",
      "[[ 0.9078464 +9.16392978e-18j  0.08871169-2.75302642e-01j\n",
      "   0.08871169+2.75302642e-01j  0.09215359+6.27803356e-19j]\n",
      " [ 0.2637422 +1.18749156e-01j -0.60864661+6.73598099e-01j\n",
      "  -0.01023845+9.15830711e-02j -0.2637422 -1.18749156e-01j]\n",
      " [ 0.2637422 -1.18749156e-01j -0.01023845-9.15830711e-02j\n",
      "  -0.60864661-6.73598099e-01j -0.2637422 +1.18749156e-01j]\n",
      " [ 0.09215359-6.27803356e-19j -0.08871169+2.75302642e-01j\n",
      "  -0.08871169-2.75302642e-01j  0.9078464 -9.16392978e-18j]]\n",
      "S3:\n",
      "[[-0.60864661+0.6735981j  -0.2637422 -0.11874916j -0.08871169+0.27530264j\n",
      "  -0.09215359+0.j        ]\n",
      " [-0.08871169+0.27530264j  0.9078464 +0.j          0.01023845+0.09158307j\n",
      "   0.2637422 -0.11874916j]\n",
      " [-0.2637422 -0.11874916j  0.01023845-0.09158307j  0.9078464 +0.j\n",
      "   0.08871169+0.27530264j]\n",
      " [-0.09215359+0.j          0.08871169+0.27530264j  0.2637422 -0.11874916j\n",
      "  -0.60864661-0.6735981j ]]\n",
      "S4:\n",
      "[[ 0.9078464 +0.j          0.08871169+0.27530264j  0.2637422 +0.11874916j\n",
      "  -0.01023845+0.09158307j]\n",
      " [ 0.2637422 -0.11874916j -0.60864661-0.6735981j   0.09215359+0.j\n",
      "  -0.08871169-0.27530264j]\n",
      " [ 0.08871169-0.27530264j  0.09215359+0.j         -0.60864661+0.6735981j\n",
      "  -0.2637422 -0.11874916j]\n",
      " [-0.01023845-0.09158307j -0.2637422 +0.11874916j -0.08871169+0.27530264j\n",
      "   0.9078464 +0.j        ]]\n",
      "\n",
      "\n",
      "------------------------------------------------\n",
      "\n",
      "0.9976828032791912\n",
      "S1:\n",
      "[[ 0.00859964+1.37110514e-19j -0.08859377-2.60159021e-02j\n",
      "  -0.08859377+2.60159021e-02j  0.99140036-8.58017175e-18j]\n",
      " [-0.07694433-5.10416851e-02j -0.0055365 -6.58034002e-03j\n",
      "   0.94709621+2.93058787e-01j  0.07694433+5.10416851e-02j]\n",
      " [-0.07694433+5.10416851e-02j  0.94709621-2.93058787e-01j\n",
      "  -0.0055365 +6.58034002e-03j  0.07694433-5.10416851e-02j]\n",
      " [ 0.99140036+8.58017175e-18j  0.08859377+2.60159021e-02j\n",
      "   0.08859377-2.60159021e-02j  0.00859964-1.37110514e-19j]]\n",
      "S2:\n",
      "[[ 0.00859964-1.37110514e-19j -0.08859377+2.60159021e-02j\n",
      "  -0.08859377-2.60159021e-02j  0.99140036+8.58017175e-18j]\n",
      " [-0.07694433+5.10416851e-02j -0.0055365 +6.58034002e-03j\n",
      "   0.94709621-2.93058787e-01j  0.07694433-5.10416851e-02j]\n",
      " [-0.07694433-5.10416851e-02j  0.94709621+2.93058787e-01j\n",
      "  -0.0055365 -6.58034002e-03j  0.07694433+5.10416851e-02j]\n",
      " [ 0.99140036-8.58017175e-18j  0.08859377-2.60159021e-02j\n",
      "   0.08859377+2.60159021e-02j  0.00859964+1.37110514e-19j]]\n",
      "S3:\n",
      "[[-0.0055365 +0.00658034j  0.07694433-0.05104169j  0.08859377-0.0260159j\n",
      "  -0.99140036+0.j        ]\n",
      " [ 0.08859377-0.0260159j   0.00859964+0.j         -0.94709621-0.29305879j\n",
      "  -0.07694433-0.05104169j]\n",
      " [ 0.07694433-0.05104169j -0.94709621+0.29305879j  0.00859964+0.j\n",
      "  -0.08859377-0.0260159j ]\n",
      " [-0.99140036+0.j         -0.08859377-0.0260159j  -0.07694433-0.05104169j\n",
      "  -0.0055365 -0.00658034j]]\n",
      "S4:\n",
      "[[ 0.00859964+0.j         -0.08859377-0.0260159j  -0.07694433+0.05104169j\n",
      "   0.94709621-0.29305879j]\n",
      " [-0.07694433-0.05104169j -0.0055365 -0.00658034j  0.99140036+0.j\n",
      "   0.08859377+0.0260159j ]\n",
      " [-0.08859377+0.0260159j   0.99140036+0.j         -0.0055365 +0.00658034j\n",
      "   0.07694433-0.05104169j]\n",
      " [ 0.94709621+0.29305879j  0.07694433+0.05104169j  0.08859377-0.0260159j\n",
      "   0.00859964+0.j        ]]\n",
      "\n",
      "\n",
      "------------------------------------------------\n",
      "\n",
      "0.9935403108190228\n",
      "S1:\n",
      "[[ 0.34575712-1.58625428e-18j -0.41741362-2.27980274e-01j\n",
      "  -0.41741362+2.27980274e-01j  0.65424289+2.19545906e-18j]\n",
      " [ 0.44515871-1.67460011e-01j  0.34236962+4.82807179e-02j\n",
      "  -0.42699838+4.95687539e-01j -0.44515871+1.67460011e-01j]\n",
      " [ 0.44515871+1.67460011e-01j -0.42699838-4.95687539e-01j\n",
      "   0.34236962-4.82807179e-02j -0.44515871-1.67460011e-01j]\n",
      " [ 0.65424289-2.19545906e-18j  0.41741362+2.27980274e-01j\n",
      "   0.41741362-2.27980274e-01j  0.34575712+1.58625428e-18j]]\n",
      "S2:\n",
      "[[ 0.34575712+1.58625428e-18j -0.41741362+2.27980274e-01j\n",
      "  -0.41741362-2.27980274e-01j  0.65424289-2.19545906e-18j]\n",
      " [ 0.44515871+1.67460011e-01j  0.34236962-4.82807179e-02j\n",
      "  -0.42699838-4.95687539e-01j -0.44515871-1.67460011e-01j]\n",
      " [ 0.44515871-1.67460011e-01j -0.42699838+4.95687539e-01j\n",
      "   0.34236962+4.82807179e-02j -0.44515871+1.67460011e-01j]\n",
      " [ 0.65424289+2.19545906e-18j  0.41741362-2.27980274e-01j\n",
      "   0.41741362+2.27980274e-01j  0.34575712-1.58625428e-18j]]\n",
      "S3:\n",
      "[[ 0.34236962-0.04828072j -0.44515871-0.16746001j  0.41741362-0.22798027j\n",
      "  -0.65424289+0.j        ]\n",
      " [ 0.41741362-0.22798027j  0.34575712+0.j          0.42699838-0.49568754j\n",
      "   0.44515871-0.16746001j]\n",
      " [-0.44515871-0.16746001j  0.42699838+0.49568754j  0.34575712+0.j\n",
      "  -0.41741362-0.22798027j]\n",
      " [-0.65424289+0.j         -0.41741362-0.22798027j  0.44515871-0.16746001j\n",
      "   0.34236962+0.04828072j]]\n",
      "S4:\n",
      "[[ 0.34575712+0.j         -0.41741362-0.22798027j  0.44515871+0.16746001j\n",
      "  -0.42699838-0.49568754j]\n",
      " [ 0.44515871-0.16746001j  0.34236962+0.04828072j  0.65424289+0.j\n",
      "   0.41741362+0.22798027j]\n",
      " [-0.41741362+0.22798027j  0.65424289+0.j          0.34236962-0.04828072j\n",
      "  -0.44515871-0.16746001j]\n",
      " [-0.42699838+0.49568754j -0.44515871+0.16746001j  0.41741362-0.22798027j\n",
      "   0.34575712+0.j        ]]\n",
      "\n",
      "\n",
      "------------------------------------------------\n",
      "\n"
     ]
    }
   ],
   "execution_count": 210
  },
  {
   "metadata": {
    "ExecuteTime": {
     "end_time": "2025-03-02T20:30:14.154917Z",
     "start_time": "2025-03-02T20:30:14.152280Z"
    }
   },
   "cell_type": "code",
   "source": "",
   "id": "68adf9928d33d7c0",
   "outputs": [],
   "execution_count": null
  },
  {
   "metadata": {},
   "cell_type": "code",
   "outputs": [],
   "execution_count": null,
   "source": "",
   "id": "fbdcf99d7782c1ae"
  }
 ],
 "metadata": {
  "kernelspec": {
   "display_name": "Python 3",
   "language": "python",
   "name": "python3"
  },
  "language_info": {
   "codemirror_mode": {
    "name": "ipython",
    "version": 2
   },
   "file_extension": ".py",
   "mimetype": "text/x-python",
   "name": "python",
   "nbconvert_exporter": "python",
   "pygments_lexer": "ipython2",
   "version": "2.7.6"
  }
 },
 "nbformat": 4,
 "nbformat_minor": 5
}
